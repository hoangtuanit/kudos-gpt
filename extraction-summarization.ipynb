{
 "cells": [
  {
   "cell_type": "code",
   "execution_count": 2,
   "id": "413c2161",
   "metadata": {},
   "outputs": [
    {
     "name": "stdout",
     "output_type": "stream",
     "text": [
      "0    i wish would have gotten one earlier love it a...\n",
      "1    i ve learned this lesson again open the packag...\n",
      "2            it is so slow and lags find better option\n",
      "3    roller ball stopped working within months of m...\n",
      "4    i like the color and size but it few days out ...\n",
      "Name: cleaned_review, dtype: object\n"
     ]
    }
   ],
   "source": [
    "import openai\n",
    "import json\n",
    "import pandas as pd\n",
    "import random\n",
    "import re\n",
    "from nltk.corpus import stopwords\n",
    "from nltk.stem import WordNetLemmatizer\n",
    "import nltk\n",
    "\n",
    "# Đọc file JSON chứa các review\n",
    "df = pd.read_csv('amazon-reviews/cleaned_reviews.csv')\n",
    "print(df[\"cleaned_review\"].head())"
   ]
  },
  {
   "cell_type": "code",
   "execution_count": null,
   "id": "99af7362",
   "metadata": {},
   "outputs": [
    {
     "name": "stderr",
     "output_type": "stream",
     "text": [
      "[nltk_data] Downloading package stopwords to\n",
      "[nltk_data]     /home/hoangtuan/nltk_data...\n",
      "[nltk_data]   Package stopwords is already up-to-date!\n",
      "[nltk_data] Downloading package wordnet to\n",
      "[nltk_data]     /home/hoangtuan/nltk_data...\n",
      "[nltk_data]   Package wordnet is already up-to-date!\n"
     ]
    },
    {
     "name": "stdout",
     "output_type": "stream",
     "text": [
      "Processed reviews: ['turn night light backlit keyboard sufficient enough see key letter number touch keyboard quiet enough roommate sleep soundly', 'great deal price sound amazing', 'bought february already stopped working headset stand place done using like tossed aside like use every day either eta customer service sent replacement nice work', 'cheap quality really comfortable mic good literally snap crackle pop go put head', 'mouse light fit hand well fun watch color slowly change however stayed charged long cannot used charging', 'really good', 'wireless mode nice sleek design purchased matte design love click quieter others think mattered much problem cursor speed connectivity enjoy change color feel expensive actually excellent price', 'great gaming', 'presentation work plug lap top television use mouse advance slide', 'awesome mouse slender build fit small hand light totally fun click button strong click know clicked something also quick response computer switch plus automatic shut use battery buying one daughter awesome', 'best headphone buck problem', 'love mouse reason gave star rating scroll wheel opposite scroll forward away page go scroll backwards towards page go getting used rather like normal mouse way fix anyone else problem', 'good', 'good', 'really good quality', 'work well wish option regular battery', 'get white one get dirty fast', 'great stopped working even turn charged course still work time window return passed really expect amazon taking step get money back bet care cheap', 'really love keyboard price could asked better one', 'cool mouse surprisingly good especially pricepoint']\n"
     ]
    }
   ],
   "source": [
    "reviews = df['cleaned_review'].dropna().astype(str).tolist()\n",
    "\n",
    "## Loại bỏ reviews quá ngắn\n",
    "def chunk_reviews(reviews, chunk_size=10):\n",
    "    for i in range(0, len(reviews), chunk_size):\n",
    "        yield reviews[i:i + chunk_size]\n",
    "\n",
    "sample_size = 20  # Số lượng review muốn lấy mẫu, có thể điều chỉnh\n",
    "if len(reviews) > sample_size:\n",
    "    reviews = random.sample(reviews, sample_size)\n",
    "\n",
    "# Tiền xử lý: Loại bỏ stopwords, từ đồng nghĩa, ký tự đặc biệt, cú pháp không cần thiết mà vẫn giữ được bản chất ban đầu\n",
    "\n",
    "# Tải stopwords nếu chưa có\n",
    "nltk.download('stopwords')\n",
    "nltk.download('wordnet')\n",
    "\n",
    "stop_words = set(stopwords.words('english'))\n",
    "lemmatizer = WordNetLemmatizer()\n",
    "\n",
    "def preprocess_review(review):\n",
    "    # Loại bỏ ký tự đặc biệt, giữ lại chữ, số, dấu câu cơ bản\n",
    "    review = re.sub(r\"[^a-zA-ZÀ-ỹ0-9,.!?;:\\s\\-]\", '', review)\n",
    "    # Chuyển về chữ thường\n",
    "    review = re.sub(r'https?://\\S+|www\\.\\S+', '', review)\n",
    "    review = re.sub(r'<.*?>', '', review)\n",
    "    # Rút gọn khoảng trắng\n",
    "    text = re.sub(r'\\s+', ' ', text).strip()\n",
    "    review = review.lower()\n",
    "    # Tách từ\n",
    "    words = review.split()\n",
    "    # Loại bỏ stopwords và lemmatize\n",
    "    words = [lemmatizer.lemmatize(word) for word in words if word not in stop_words]\n",
    "    # Ghép lại thành câu\n",
    "    return ' '.join(words)\n",
    "\n",
    "reviews = [preprocess_review(r) for r in reviews]\n",
    "\n",
    "print(\"Processed reviews:\", reviews)"
   ]
  },
  {
   "cell_type": "code",
   "execution_count": null,
   "id": "5617518f",
   "metadata": {},
   "outputs": [
    {
     "name": "stderr",
     "output_type": "stream",
     "text": [
      "huggingface/tokenizers: The current process just got forked, after parallelism has already been used. Disabling parallelism to avoid deadlocks...\n",
      "To disable this warning, you can either:\n",
      "\t- Avoid using `tokenizers` before the fork if possible\n",
      "\t- Explicitly set the environment variable TOKENIZERS_PARALLELISM=(true | false)\n"
     ]
    },
    {
     "name": "stdout",
     "output_type": "stream",
     "text": [
      "Requirement already satisfied: torch in /home/hoangtuan/personal/AI_Engineer/NLP/venv/lib/python3.12/site-packages (2.7.1)\n",
      "Requirement already satisfied: filelock in /home/hoangtuan/personal/AI_Engineer/NLP/venv/lib/python3.12/site-packages (from torch) (3.18.0)\n",
      "Requirement already satisfied: typing-extensions>=4.10.0 in /home/hoangtuan/personal/AI_Engineer/NLP/venv/lib/python3.12/site-packages (from torch) (4.14.0)\n",
      "Requirement already satisfied: setuptools in /home/hoangtuan/personal/AI_Engineer/NLP/venv/lib/python3.12/site-packages (from torch) (80.9.0)\n",
      "Requirement already satisfied: sympy>=1.13.3 in /home/hoangtuan/personal/AI_Engineer/NLP/venv/lib/python3.12/site-packages (from torch) (1.14.0)\n",
      "Requirement already satisfied: networkx in /home/hoangtuan/personal/AI_Engineer/NLP/venv/lib/python3.12/site-packages (from torch) (3.5)\n",
      "Requirement already satisfied: jinja2 in /home/hoangtuan/personal/AI_Engineer/NLP/venv/lib/python3.12/site-packages (from torch) (3.1.6)\n",
      "Requirement already satisfied: fsspec in /home/hoangtuan/personal/AI_Engineer/NLP/venv/lib/python3.12/site-packages (from torch) (2025.3.0)\n",
      "Requirement already satisfied: nvidia-cuda-nvrtc-cu12==12.6.77 in /home/hoangtuan/personal/AI_Engineer/NLP/venv/lib/python3.12/site-packages (from torch) (12.6.77)\n",
      "Requirement already satisfied: nvidia-cuda-runtime-cu12==12.6.77 in /home/hoangtuan/personal/AI_Engineer/NLP/venv/lib/python3.12/site-packages (from torch) (12.6.77)\n",
      "Requirement already satisfied: nvidia-cuda-cupti-cu12==12.6.80 in /home/hoangtuan/personal/AI_Engineer/NLP/venv/lib/python3.12/site-packages (from torch) (12.6.80)\n",
      "Requirement already satisfied: nvidia-cudnn-cu12==9.5.1.17 in /home/hoangtuan/personal/AI_Engineer/NLP/venv/lib/python3.12/site-packages (from torch) (9.5.1.17)\n",
      "Requirement already satisfied: nvidia-cublas-cu12==12.6.4.1 in /home/hoangtuan/personal/AI_Engineer/NLP/venv/lib/python3.12/site-packages (from torch) (12.6.4.1)\n",
      "Requirement already satisfied: nvidia-cufft-cu12==11.3.0.4 in /home/hoangtuan/personal/AI_Engineer/NLP/venv/lib/python3.12/site-packages (from torch) (11.3.0.4)\n",
      "Requirement already satisfied: nvidia-curand-cu12==10.3.7.77 in /home/hoangtuan/personal/AI_Engineer/NLP/venv/lib/python3.12/site-packages (from torch) (10.3.7.77)\n",
      "Requirement already satisfied: nvidia-cusolver-cu12==11.7.1.2 in /home/hoangtuan/personal/AI_Engineer/NLP/venv/lib/python3.12/site-packages (from torch) (11.7.1.2)\n",
      "Requirement already satisfied: nvidia-cusparse-cu12==12.5.4.2 in /home/hoangtuan/personal/AI_Engineer/NLP/venv/lib/python3.12/site-packages (from torch) (12.5.4.2)\n",
      "Requirement already satisfied: nvidia-cusparselt-cu12==0.6.3 in /home/hoangtuan/personal/AI_Engineer/NLP/venv/lib/python3.12/site-packages (from torch) (0.6.3)\n",
      "Requirement already satisfied: nvidia-nccl-cu12==2.26.2 in /home/hoangtuan/personal/AI_Engineer/NLP/venv/lib/python3.12/site-packages (from torch) (2.26.2)\n",
      "Requirement already satisfied: nvidia-nvtx-cu12==12.6.77 in /home/hoangtuan/personal/AI_Engineer/NLP/venv/lib/python3.12/site-packages (from torch) (12.6.77)\n",
      "Requirement already satisfied: nvidia-nvjitlink-cu12==12.6.85 in /home/hoangtuan/personal/AI_Engineer/NLP/venv/lib/python3.12/site-packages (from torch) (12.6.85)\n",
      "Requirement already satisfied: nvidia-cufile-cu12==1.11.1.6 in /home/hoangtuan/personal/AI_Engineer/NLP/venv/lib/python3.12/site-packages (from torch) (1.11.1.6)\n",
      "Requirement already satisfied: triton==3.3.1 in /home/hoangtuan/personal/AI_Engineer/NLP/venv/lib/python3.12/site-packages (from torch) (3.3.1)\n",
      "Requirement already satisfied: mpmath<1.4,>=1.1.0 in /home/hoangtuan/personal/AI_Engineer/NLP/venv/lib/python3.12/site-packages (from sympy>=1.13.3->torch) (1.3.0)\n",
      "Requirement already satisfied: MarkupSafe>=2.0 in /home/hoangtuan/personal/AI_Engineer/NLP/venv/lib/python3.12/site-packages (from jinja2->torch) (3.0.2)\n",
      "Note: you may need to restart the kernel to use updated packages.\n"
     ]
    }
   ],
   "source": [
    "%pip install torch\n",
    "\n",
    "from transformers import AutoTokenizer\n",
    "\n",
    "tokenizer = AutoTokenizer.from_pretrained(\"sshleifer/distilbart-cnn-12-6\")\n",
    "\n",
    "def tokenize_reviews(reviews, max_length=512):\n",
    "    tokenized_reviews = []\n",
    "    for review in reviews:\n",
    "        tokens = tokenizer.encode(review, max_length=max_length, truncation=True, padding='max_length', return_tensors='pt')\n",
    "        tokenized_reviews.append(tokens)\n",
    "    return tokenized_reviews\n",
    "\n",
    "tokenized_reviews = tokenize_reviews(reviews)\n",
    "print(\"Tokenized reviews:\", tokenized_reviews)\n",
    "\n"
   ]
  },
  {
   "cell_type": "code",
   "execution_count": null,
   "id": "33819bea",
   "metadata": {},
   "outputs": [],
   "source": [
    "## Tách train/test nếu chưa có:\n",
    "\n",
    "from sklearn.model_selection import train_test_split\n",
    "train_reviews, test_reviews = train_test_split(tokenized_reviews, test_size=0.2, random_state=42)\n",
    "print(\"Train reviews:\", train_reviews)"
   ]
  },
  {
   "cell_type": "code",
   "execution_count": null,
   "id": "914c3d73",
   "metadata": {},
   "outputs": [],
   "source": [
    "##  Lưu dữ liệu tokenized \n",
    "\n",
    "import torch\n",
    "\n",
    "torch.save(tokenized_reviews, 'tokenized_reviews.pt')\n"
   ]
  }
 ],
 "metadata": {
  "kernelspec": {
   "display_name": "venv",
   "language": "python",
   "name": "python3"
  },
  "language_info": {
   "codemirror_mode": {
    "name": "ipython",
    "version": 3
   },
   "file_extension": ".py",
   "mimetype": "text/x-python",
   "name": "python",
   "nbconvert_exporter": "python",
   "pygments_lexer": "ipython3",
   "version": "3.12.3"
  }
 },
 "nbformat": 4,
 "nbformat_minor": 5
}
