{
 "cells": [
  {
   "cell_type": "code",
   "execution_count": 4,
   "id": "73efe1fd",
   "metadata": {},
   "outputs": [
    {
     "name": "stdout",
     "output_type": "stream",
     "text": [
      "0    i wish would have gotten one earlier love it a...\n",
      "1    i ve learned this lesson again open the packag...\n",
      "2            it is so slow and lags find better option\n",
      "3    roller ball stopped working within months of m...\n",
      "4    i like the color and size but it few days out ...\n",
      "Name: cleaned_review, dtype: object\n"
     ]
    }
   ],
   "source": [
    "import openai\n",
    "import json\n",
    "import pandas as pd\n",
    "import random\n",
    "import re\n",
    "from nltk.corpus import stopwords\n",
    "from nltk.stem import WordNetLemmatizer\n",
    "import nltk\n",
    "\n",
    "# Đọc file JSON chứa các review\n",
    "df = pd.read_csv('amazon-reviews/cleaned_reviews.csv')\n",
    "print(df[\"cleaned_review\"].head())"
   ]
  },
  {
   "cell_type": "code",
   "execution_count": null,
   "id": "c9ea1450",
   "metadata": {},
   "outputs": [
    {
     "name": "stderr",
     "output_type": "stream",
     "text": [
      "[nltk_data] Downloading package stopwords to\n",
      "[nltk_data]     /home/hoangtuan/nltk_data...\n",
      "[nltk_data]   Package stopwords is already up-to-date!\n",
      "[nltk_data] Downloading package wordnet to\n",
      "[nltk_data]     /home/hoangtuan/nltk_data...\n"
     ]
    },
    {
     "name": "stdout",
     "output_type": "stream",
     "text": [
      "Processed reviews: ['good gaming pc', 'lightweight easy use highly recommend product changing led really make enjoyable experience would definitely repurchase future awesome customer service', 'bought june dead plus wireless mode frequently multiple time per day mouse drop connection cheap product would rather working product', 'love', 'good', 'laser sporadic mouse icon jump around randomly', 'first day worked great second day barely track try click anything open document email take several try work waste money going back old mouse', 'beautiful mouse color change happy month longer work care usb adapter charging port want use old fashioned battery sometimes see would work battery slot', 'good headset work expected confortable support wish usb part longer could go p work great', 'could put zero star would order came correct packaging soon opened speaker advertised someone replaced speaker used black speaker even brand completely ridiculous', 'fantastic sounding speaker lot volume', 'small mouse battery', 'far work great', 'bought headphone last week speaker headphone already shorting longer working', 'fantastic', 'price great', 'received yesterday planning return seems cheaply made product taking chance', 'love new mouse work home job still use mouse day everyday originally using big bulky gaming mouse light looked cool last year hand starting hurt ready downgrade something smaller lighter saw see let tell love new mouse small light easy use click super quiet feel great hand yes plastic actually feel cheap feel like good build responsive glide smooth gripe wake sleep click mouse button instead moving like item minor issue oh different color come nice also rgb color changing lighting nice effect definitely recommend mouse home office use', 'love keyboard work look great warning anyone else small hand little hard use find stretch quite bit hit wrong key much frequently keyboard', 'like using mouse laptop mouse helpful light']\n"
     ]
    }
   ],
   "source": [
    "reviews = df['cleaned_review'].dropna().astype(str).tolist()\n",
    "\n",
    "## Loại bỏ reviews quá ngắn\n",
    "def chunk_reviews(reviews, chunk_size=10):\n",
    "    for i in range(0, len(reviews), chunk_size):\n",
    "        yield reviews[i:i + chunk_size]\n",
    "\n",
    "sample_size = 20  # Số lượng review muốn lấy mẫu, có thể điều chỉnh\n",
    "if len(reviews) > sample_size:\n",
    "    reviews = random.sample(reviews, sample_size)\n",
    "\n",
    "# Tiền xử lý: Loại bỏ stopwords, từ đồng nghĩa, ký tự đặc biệt, cú pháp không cần thiết mà vẫn giữ được bản chất ban đầu\n",
    "\n",
    "# Tải stopwords nếu chưa có\n",
    "nltk.download('stopwords')\n",
    "nltk.download('wordnet')\n",
    "\n",
    "stop_words = set(stopwords.words('english'))\n",
    "lemmatizer = WordNetLemmatizer()\n",
    "\n",
    "def preprocess_review(review):\n",
    "    # Loại bỏ ký tự đặc biệt và số\n",
    "    review = re.sub(r'[^a-zA-Z\\s]', '', review)\n",
    "    # Chuyển về chữ thường\n",
    "    review = review.lower()\n",
    "    # Tách từ\n",
    "    words = review.split()\n",
    "    # Loại bỏ stopwords và lemmatize\n",
    "    words = [lemmatizer.lemmatize(word) for word in words if word not in stop_words]\n",
    "    # Ghép lại thành câu\n",
    "    return ' '.join(words)\n",
    "\n",
    "reviews = [preprocess_review(r) for r in reviews]\n",
    "\n",
    "print(\"Processed reviews:\", reviews)"
   ]
  },
  {
   "cell_type": "code",
   "execution_count": null,
   "id": "12164aec",
   "metadata": {},
   "outputs": [
    {
     "name": "stdout",
     "output_type": "stream",
     "text": [
      "Overall sentiment: Mixed\n",
      "\n",
      "Common PROS:\n",
      "1. Good gaming PC\n",
      "2. Lightweight and easy to use\n",
      "3. Awesome customer service\n",
      "4. Good headset performance\n",
      "5. Fantastic sounding speaker with a lot of volume\n",
      "\n",
      "Common CONS:\n",
      "1. Wireless mouse frequently drops connection\n",
      "2. Sporadic laser mouse behavior\n",
      "3. Headphone and speaker issues after a short period of use\n",
      "\n",
      "Optional quotes:\n",
      "- \"Fantastic sounding speaker with a lot of volume.\"\n",
      "- \"Love the new mouse, small and light, easy to use.\"\n",
      "\n",
      "Final verdict: A potential buyer may feel hesitant about the product due to the mixed reviews and issues reported with the wireless mouse and headphone/speaker. It may be worth considering other options before making a purchase.\n"
     ]
    }
   ],
   "source": [
    "# new\n",
    "from dotenv import load_dotenv\n",
    "import os\n",
    "load_dotenv()\n",
    "from openai import AsyncOpenAI\n",
    "api_key = os.getenv(\"OPENAI_API_KEY\")\n",
    "client = AsyncOpenAI(api_key=api_key)  # Never share your real API key in code!\n",
    "\n",
    "async def summarize_features_for_buyer(reviews):\n",
    "    prompt = f\"\"\"\n",
    "        You will be given a batch of product reviews. Summarize them by extracting:\n",
    "\n",
    "        - Overall sentiment (positive, negative, mixed)\n",
    "        - Common PROS: list 3–5 things customers often praised\n",
    "        - Common CONS: list 2–3 frequent complaints\n",
    "        - Optional: 1–2 short, representative quotes\n",
    "        - Final verdict: Should a potential buyer feel confident in the product?\n",
    "\n",
    "        Here are the reviews:\n",
    "        ---\n",
    "        {reviews}\n",
    "        ---\n",
    "    \"\"\"\n",
    "    completion = await client.chat.completions.create(\n",
    "        model=\"gpt-3.5-turbo\",\n",
    "        messages=[{\"role\": \"user\", \"content\": prompt}],\n",
    "        max_tokens=300,\n",
    "        temperature=0.3\n",
    "    )\n",
    "    return completion.choices[0].message.content.strip()\n",
    "\n",
    "summary = await summarize_features_for_buyer(reviews)\n",
    "print(\"For buyer\", summary)\n",
    "# ...existing code..."
   ]
  },
  {
   "cell_type": "code",
   "execution_count": 15,
   "id": "07d95b0d",
   "metadata": {},
   "outputs": [
    {
     "name": "stdout",
     "output_type": "stream",
     "text": [
      "For merchant Positive feedback:\n",
      "- Customers appreciate the good gaming experience and the lightweight design of the product.\n",
      "- Some customers mentioned the fantastic sound quality of the speaker.\n",
      "- The mouse is described as small, light, easy to use, and with smooth gliding.\n",
      "\n",
      "Negative feedback:\n",
      "- Some customers experienced issues with connectivity, such as the mouse dropping connection frequently.\n",
      "- There were complaints about the mouse not tracking properly after a short period of use.\n",
      "- A few customers received incorrect or used products, leading to disappointment.\n",
      "\n",
      "Suggestions for improvement:\n",
      "- Improve the connectivity issues with the mouse to ensure a consistent and reliable performance.\n",
      "- Address the quality control issues to prevent customers from receiving incorrect or used products.\n",
      "- Consider enhancing the comfort and support of the headset for a better user experience.\n",
      "- Provide a more durable and long-lasting solution for the headphone speaker to prevent shorting out.\n",
      "- Offer a more ergonomic design for the keyboard to accommodate users with smaller hands.\n",
      "\n",
      "Overall, focusing on improving product reliability, quality control, and user comfort can help enhance customer satisfaction and loyalty.\n"
     ]
    }
   ],
   "source": [
    "async def summarize_features_for_merchant(reviews):\n",
    "    prompt = f\"\"\"\n",
    "        You are an assistant for a business owner who wants to improve their product based on customer feedback.\n",
    "\n",
    "Given a list of customer reviews, summarize the most common positive and negative opinions. Group the feedback into key aspects (e.g., battery, design, performance, price, etc.). Then, give clear suggestions to improve the product based on customer concerns.\n",
    "\n",
    "Reviews:\n",
    "        ---\n",
    "        {reviews}\n",
    "        ---\n",
    "    \"\"\"\n",
    "    completion = await client.chat.completions.create(\n",
    "        model=\"gpt-3.5-turbo\",\n",
    "        messages=[{\"role\": \"user\", \"content\": prompt}],\n",
    "        max_tokens=300,\n",
    "        temperature=0.3\n",
    "    )\n",
    "    return completion.choices[0].message.content.strip()\n",
    "\n",
    "summary = await summarize_features_for_merchant(reviews)\n",
    "print(\"For merchant\", summary)\n",
    "# ...existing code..."
   ]
  }
 ],
 "metadata": {
  "kernelspec": {
   "display_name": "venv",
   "language": "python",
   "name": "python3"
  },
  "language_info": {
   "codemirror_mode": {
    "name": "ipython",
    "version": 3
   },
   "file_extension": ".py",
   "mimetype": "text/x-python",
   "name": "python",
   "nbconvert_exporter": "python",
   "pygments_lexer": "ipython3",
   "version": "3.12.3"
  }
 },
 "nbformat": 4,
 "nbformat_minor": 5
}
